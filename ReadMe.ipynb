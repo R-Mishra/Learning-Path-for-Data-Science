{
 "cells": [
  {
   "cell_type": "markdown",
   "metadata": {},
   "source": [
    "# Learning Path for Data Science\n",
    "\n",
    "This will be a compilation of all the resources I will use to learn data science. \n",
    "\n",
    "I currently have a background in Data Analysis, Python, R Programming, MATLAB, Tableau, PowerBI and SQL. I can write code and carry out basic exploratory analysis. I am not fluent in generating plots in any of the programming languages. I can carry out basic exploratory analysis followed by techniques such as PCA, K-means clustering, etc. Moreover, I know how to train and test different machine learning models. As for Tableau and SQL, I do not have project experience in them but I have taken online courses which helps me understand what goes on in these environments.\n",
    "\n",
    "My objective here is to learn how to handle data and derieve benefit from insights and predictions. This will require fluency in the following aspects:\n",
    "\n",
    "1. Data Collection: The know how of collecting data given a problem. The measures to be taken to ensure data quality. Understanding what quality data is.\n",
    "\n",
    "2. Data Preprocessing: I am deliberately ignoring the term data cleaning because clean data is a relative term. Here one has to understand what the need of the probelm is and alter the arrangement of the data to meet the same.\n",
    "\n",
    "3. Exploratory Data Analysis: This step is to familiarize ourselves with the data. It can be done parallely with Preprocessing. More like, you explore the dataset first, carry out some cleaning and then explore it again. It is an iterative process until you get a fully cleaned data set with some visualizations that help you see what the information in your dataset is trying to convey. Exploratory Data Analysis involves statistical analysis of what the data is trying to say.\n",
    "\n",
    "4. Data Modeling: Once an understanding of the dataset has been established, we need to take steps to solve the problem. The problem can range from knowledge discovery to predictive analytics and we need to employ appropriate models to fulfil this requirement. \n",
    "\n",
    "5. Performance Analysis: We will be using more than one models to solve our problem. Therefore, it becomes necessary to evaluate them in terms of which best meets our objective. This step does exactly that by defining the right perfomance indices to assess models given the problem statement.\n",
    "\n",
    "Additional Topics:\n",
    "\n",
    "1. Scaling Up: This is one of the outcomes of the work of a data scientist. After models hve been evaluated it is important to see if the entire framework can be scaled up and if so, how. This might involve some complex computer science concepts. So, we will start at the very basics of it and work our way up.\n",
    "\n",
    "2. Visualization: This is another outcome of data science projects. Mostly executive presentations require insights generated from analysis to be visually presented. This portrayal of information through visualization is key for business analysts. \n",
    "\n",
    "3. Feature Engineering: One of the more complex aspects of Data Science which works to make the data more effective. \n"
   ]
  },
  {
   "cell_type": "markdown",
   "metadata": {},
   "source": [
    "### We will work through these topics by:\n",
    "\n",
    "1. Studying from various online materials that are freely available \n",
    "2. Summarizing the learnings in Jupyter Notebooks \n",
    "3. Carrying out practice exercises, some of which can be copied from online sources and others done on my own \n",
    "\n",
    "As this is going to be my hobby, it will take me a considerable amount of time to create a large and effective repository usable by others. "
   ]
  }
 ],
 "metadata": {
  "kernelspec": {
   "display_name": "Python 3",
   "language": "python",
   "name": "python3"
  },
  "language_info": {
   "codemirror_mode": {
    "name": "ipython",
    "version": 3
   },
   "file_extension": ".py",
   "mimetype": "text/x-python",
   "name": "python",
   "nbconvert_exporter": "python",
   "pygments_lexer": "ipython3",
   "version": "3.6.8"
  }
 },
 "nbformat": 4,
 "nbformat_minor": 4
}
